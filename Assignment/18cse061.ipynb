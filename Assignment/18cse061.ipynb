{
 "cells": [
  {
   "cell_type": "code",
   "execution_count": 2,
   "id": "272b2853",
   "metadata": {
    "ExecuteTime": {
     "end_time": "2023-11-29T04:41:25.047485Z",
     "start_time": "2023-11-29T04:41:23.370218Z"
    }
   },
   "outputs": [],
   "source": [
    "import pandas as pd\n",
    "from sklearn.model_selection import train_test_split\n",
    "from sklearn.linear_model import LogisticRegression\n",
    "from sklearn.neighbors import KNeighborsClassifier\n",
    "from sklearn.svm import SVC\n",
    "from sklearn.metrics import accuracy_score\n",
    "from sklearn.preprocessing import StandardScaler\n",
    "from sklearn import tree"
   ]
  },
  {
   "cell_type": "code",
   "execution_count": 9,
   "id": "93e0434d",
   "metadata": {
    "ExecuteTime": {
     "end_time": "2023-11-29T04:44:03.941864Z",
     "start_time": "2023-11-29T04:44:03.918360Z"
    }
   },
   "outputs": [
    {
     "name": "stdout",
     "output_type": "stream",
     "text": [
      "(150, 6)\n",
      "Index(['Id', 'SepalLengthCm', 'SepalWidthCm', 'PetalLengthCm', 'PetalWidthCm',\n",
      "       'Species'],\n",
      "      dtype='object')\n",
      "   Id  SepalLengthCm  SepalWidthCm  PetalLengthCm  PetalWidthCm      Species\n",
      "0   1            5.1           3.5            1.4           0.2  Iris-setosa\n",
      "1   2            4.9           3.0            1.4           0.2  Iris-setosa\n",
      "2   3            4.7           3.2            1.3           0.2  Iris-setosa\n",
      "3   4            4.6           3.1            1.5           0.2  Iris-setosa\n",
      "4   5            5.0           3.6            1.4           0.2  Iris-setosa\n",
      "5   6            5.4           3.9            1.7           0.4  Iris-setosa\n",
      "6   7            4.6           3.4            1.4           0.3  Iris-setosa\n",
      "7   8            5.0           3.4            1.5           0.2  Iris-setosa\n",
      "8   9            4.4           2.9            1.4           0.2  Iris-setosa\n",
      "9  10            4.9           3.1            1.5           0.1  Iris-setosa\n",
      "               Id  SepalLengthCm  SepalWidthCm  PetalLengthCm  PetalWidthCm\n",
      "count  150.000000     150.000000    150.000000     150.000000    150.000000\n",
      "mean    75.500000       5.843333      3.054000       3.758667      1.198667\n",
      "std     43.445368       0.828066      0.433594       1.764420      0.763161\n",
      "min      1.000000       4.300000      2.000000       1.000000      0.100000\n",
      "25%     38.250000       5.100000      2.800000       1.600000      0.300000\n",
      "50%     75.500000       5.800000      3.000000       4.350000      1.300000\n",
      "75%    112.750000       6.400000      3.300000       5.100000      1.800000\n",
      "max    150.000000       7.900000      4.400000       6.900000      2.500000\n"
     ]
    }
   ],
   "source": [
    "iris_data = pd.read_csv('Iris.csv')\n",
    "\n",
    "# dimensions (no. of rows & columns)\n",
    "print(iris_data.shape)\n",
    "# list of columns/features\n",
    "print(iris_data.columns) \n",
    "# peek some data\n",
    "print(iris_data.head(10))\n",
    "# statistical summary\n",
    "print(iris_data.describe())"
   ]
  },
  {
   "cell_type": "code",
   "execution_count": 10,
   "id": "45d6a699",
   "metadata": {
    "ExecuteTime": {
     "end_time": "2023-11-29T04:44:05.040657Z",
     "start_time": "2023-11-29T04:44:05.031847Z"
    }
   },
   "outputs": [
    {
     "name": "stdout",
     "output_type": "stream",
     "text": [
      "Species\n",
      "Iris-setosa        50\n",
      "Iris-versicolor    50\n",
      "Iris-virginica     50\n",
      "Name: count, dtype: int64\n",
      "Species\n",
      "Iris-setosa        50\n",
      "Iris-versicolor    50\n",
      "Iris-virginica     50\n",
      "dtype: int64\n"
     ]
    }
   ],
   "source": [
    "# target variable\n",
    "target = iris_data['Species']\n",
    "# distribution of class labels or categories\n",
    "print(pd.value_counts(target))\n",
    "# alternative of finding class distribution\n",
    "print(iris_data.groupby('Species').size())"
   ]
  },
  {
   "cell_type": "code",
   "execution_count": 11,
   "id": "88076c0d",
   "metadata": {
    "ExecuteTime": {
     "end_time": "2023-11-29T04:44:06.508597Z",
     "start_time": "2023-11-29T04:44:06.497395Z"
    }
   },
   "outputs": [
    {
     "name": "stdout",
     "output_type": "stream",
     "text": [
      "\n",
      "Shape of training data : (105, 6)\n",
      "\n",
      "Shape of testing data : (45, 6)\n",
      "Species\n",
      "Iris-versicolor    35\n",
      "Iris-setosa        35\n",
      "Iris-virginica     35\n",
      "Name: count, dtype: int64\n",
      "Species\n",
      "Iris-versicolor    15\n",
      "Iris-virginica     15\n",
      "Iris-setosa        15\n",
      "Name: count, dtype: int64\n"
     ]
    }
   ],
   "source": [
    "seed = 7\n",
    "train_data, test_data = train_test_split(iris_data, test_size=0.3, random_state=seed, stratify=target)\n",
    "# shape of the datasets\n",
    "print('\\nShape of training data :',train_data.shape)\n",
    "print('\\nShape of testing data :',test_data.shape)\n",
    "# class distribution of the training data\n",
    "print(pd.value_counts(train_data['Species']))\n",
    "# class distribution of the test data\n",
    "print(pd.value_counts(test_data['Species']))"
   ]
  },
  {
   "cell_type": "code",
   "execution_count": 12,
   "id": "11cec467",
   "metadata": {
    "ExecuteTime": {
     "end_time": "2023-11-29T04:44:07.459216Z",
     "start_time": "2023-11-29T04:44:07.451989Z"
    }
   },
   "outputs": [],
   "source": [
    "# separate the independent and target variables from training data\n",
    "train_x = train_data.drop(columns=['Species'],axis=1)\n",
    "train_y = train_data['Species']\n",
    "# separate the independent and target variables from test data\n",
    "test_x = test_data.drop(columns=['Species'],axis=1)\n",
    "test_y = test_data['Species']"
   ]
  },
  {
   "cell_type": "code",
   "execution_count": 13,
   "id": "173505ab",
   "metadata": {
    "ExecuteTime": {
     "end_time": "2023-11-29T04:44:08.728377Z",
     "start_time": "2023-11-29T04:44:08.718313Z"
    }
   },
   "outputs": [],
   "source": [
    "# Initialize StandardScaler\n",
    "scaler = StandardScaler()\n",
    "\n",
    "# Fit and transform the scaler on the training data\n",
    "train_x_scaled = scaler.fit_transform(train_x)\n",
    "\n",
    "# Transform the test data using the same scaler\n",
    "test_x_scaled = scaler.transform(test_x)"
   ]
  },
  {
   "cell_type": "code",
   "execution_count": 14,
   "id": "911ba3d3",
   "metadata": {
    "ExecuteTime": {
     "end_time": "2023-11-29T04:44:43.827910Z",
     "start_time": "2023-11-29T04:44:43.800853Z"
    }
   },
   "outputs": [
    {
     "ename": "AttributeError",
     "evalue": "'DataFrame' object has no attribute 'append'",
     "output_type": "error",
     "traceback": [
      "\u001b[1;31m---------------------------------------------------------------------------\u001b[0m",
      "\u001b[1;31mAttributeError\u001b[0m                            Traceback (most recent call last)",
      "\u001b[1;32m~\\AppData\\Local\\Temp\\ipykernel_2664\\175673509.py\u001b[0m in \u001b[0;36m?\u001b[1;34m()\u001b[0m\n\u001b[0;32m      7\u001b[0m \u001b[1;31m# Create a DataFrame for results\u001b[0m\u001b[1;33m\u001b[0m\u001b[1;33m\u001b[0m\u001b[0m\n\u001b[0;32m      8\u001b[0m \u001b[0mresults_df\u001b[0m \u001b[1;33m=\u001b[0m \u001b[0mpd\u001b[0m\u001b[1;33m.\u001b[0m\u001b[0mDataFrame\u001b[0m\u001b[1;33m(\u001b[0m\u001b[0mcolumns\u001b[0m\u001b[1;33m=\u001b[0m\u001b[1;33m[\u001b[0m\u001b[1;34m'Classifier'\u001b[0m\u001b[1;33m,\u001b[0m \u001b[1;34m'Training Accuracy'\u001b[0m\u001b[1;33m,\u001b[0m \u001b[1;34m'Test Accuracy'\u001b[0m\u001b[1;33m]\u001b[0m\u001b[1;33m)\u001b[0m\u001b[1;33m\u001b[0m\u001b[1;33m\u001b[0m\u001b[0m\n\u001b[0;32m      9\u001b[0m \u001b[1;33m\u001b[0m\u001b[0m\n\u001b[0;32m     10\u001b[0m \u001b[1;31m# Append results to the DataFrame\u001b[0m\u001b[1;33m\u001b[0m\u001b[1;33m\u001b[0m\u001b[0m\n\u001b[1;32m---> 11\u001b[1;33m results_df = results_df.append({\n\u001b[0m\u001b[0;32m     12\u001b[0m     \u001b[1;34m'Classifier'\u001b[0m\u001b[1;33m:\u001b[0m \u001b[1;34m'Decision Tree'\u001b[0m\u001b[1;33m,\u001b[0m\u001b[1;33m\u001b[0m\u001b[1;33m\u001b[0m\u001b[0m\n\u001b[0;32m     13\u001b[0m     \u001b[1;34m'Training Accuracy'\u001b[0m\u001b[1;33m:\u001b[0m \u001b[0maccuracy_score\u001b[0m\u001b[1;33m(\u001b[0m\u001b[0mtrain_y\u001b[0m\u001b[1;33m,\u001b[0m \u001b[0mpredictions_train\u001b[0m\u001b[1;33m)\u001b[0m\u001b[1;33m,\u001b[0m\u001b[1;33m\u001b[0m\u001b[1;33m\u001b[0m\u001b[0m\n\u001b[0;32m     14\u001b[0m     \u001b[1;34m'Test Accuracy'\u001b[0m\u001b[1;33m:\u001b[0m \u001b[0maccuracy_score\u001b[0m\u001b[1;33m(\u001b[0m\u001b[0mtest_y\u001b[0m\u001b[1;33m,\u001b[0m \u001b[0mpredictions_test\u001b[0m\u001b[1;33m)\u001b[0m\u001b[1;33m\u001b[0m\u001b[1;33m\u001b[0m\u001b[0m\n",
      "\u001b[1;32mC:\\ProgramData\\anaconda3\\Lib\\site-packages\\pandas\\core\\generic.py\u001b[0m in \u001b[0;36m?\u001b[1;34m(self, name)\u001b[0m\n\u001b[0;32m   5985\u001b[0m             \u001b[1;32mand\u001b[0m \u001b[0mname\u001b[0m \u001b[1;32mnot\u001b[0m \u001b[1;32min\u001b[0m \u001b[0mself\u001b[0m\u001b[1;33m.\u001b[0m\u001b[0m_accessors\u001b[0m\u001b[1;33m\u001b[0m\u001b[1;33m\u001b[0m\u001b[0m\n\u001b[0;32m   5986\u001b[0m             \u001b[1;32mand\u001b[0m \u001b[0mself\u001b[0m\u001b[1;33m.\u001b[0m\u001b[0m_info_axis\u001b[0m\u001b[1;33m.\u001b[0m\u001b[0m_can_hold_identifiers_and_holds_name\u001b[0m\u001b[1;33m(\u001b[0m\u001b[0mname\u001b[0m\u001b[1;33m)\u001b[0m\u001b[1;33m\u001b[0m\u001b[1;33m\u001b[0m\u001b[0m\n\u001b[0;32m   5987\u001b[0m         ):\n\u001b[0;32m   5988\u001b[0m             \u001b[1;32mreturn\u001b[0m \u001b[0mself\u001b[0m\u001b[1;33m[\u001b[0m\u001b[0mname\u001b[0m\u001b[1;33m]\u001b[0m\u001b[1;33m\u001b[0m\u001b[1;33m\u001b[0m\u001b[0m\n\u001b[1;32m-> 5989\u001b[1;33m         \u001b[1;32mreturn\u001b[0m \u001b[0mobject\u001b[0m\u001b[1;33m.\u001b[0m\u001b[0m__getattribute__\u001b[0m\u001b[1;33m(\u001b[0m\u001b[0mself\u001b[0m\u001b[1;33m,\u001b[0m \u001b[0mname\u001b[0m\u001b[1;33m)\u001b[0m\u001b[1;33m\u001b[0m\u001b[1;33m\u001b[0m\u001b[0m\n\u001b[0m",
      "\u001b[1;31mAttributeError\u001b[0m: 'DataFrame' object has no attribute 'append'"
     ]
    }
   ],
   "source": [
    "# Decision Tree\n",
    "model = tree.DecisionTreeClassifier()\n",
    "model.fit(train_x, train_y)\n",
    "predictions_train = model.predict(train_x)\n",
    "predictions_test = model.predict(test_x)\n",
    "\n",
    "# Create a DataFrame for results\n",
    "results_df = pd.DataFrame(columns=['Classifier', 'Training Accuracy', 'Test Accuracy'])\n",
    "\n",
    "# Append results to the DataFrame\n",
    "results_df = results_df.append({\n",
    "    'Classifier': 'Decision Tree',\n",
    "    'Training Accuracy': accuracy_score(train_y, predictions_train),\n",
    "    'Test Accuracy': accuracy_score(test_y, predictions_test)\n",
    "}, ignore_index=True)\n",
    "\n",
    "# Display the results DataFrame\n",
    "print(results_df)"
   ]
  },
  {
   "cell_type": "code",
   "execution_count": null,
   "id": "fdd94425",
   "metadata": {
    "ExecuteTime": {
     "end_time": "2023-11-27T16:14:27.442116Z",
     "start_time": "2023-11-27T16:14:27.442116Z"
    }
   },
   "outputs": [],
   "source": [
    "# Logistic Regression\n",
    "model = LogisticRegression(max_iter=1000)\n",
    "model.fit(train_x_scaled, train_y)\n",
    "predictions_train = model.predict(train_x_scaled)\n",
    "predictions_test = model.predict(test_x_scaled)\n",
    "results = results.append({'Classifier': 'Logistic Regression', 'Training Accuracy': accuracy_score(train_y, predictions_train), 'Test Accuracy': accuracy_score(test_y, predictions_test)}, ignore_index=True)"
   ]
  },
  {
   "cell_type": "code",
   "execution_count": null,
   "id": "fb069eb0",
   "metadata": {
    "ExecuteTime": {
     "end_time": "2023-11-27T16:14:27.443119Z",
     "start_time": "2023-11-27T16:14:27.443119Z"
    }
   },
   "outputs": [],
   "source": [
    "# K-Nearest Neighbors\n",
    "model = KNeighborsClassifier()\n",
    "model.fit(train_x, train_y)\n",
    "predictions_train = model.predict(train_x)\n",
    "predictions_test = model.predict(test_x)\n",
    "results = results.append({'Classifier': 'K-Nearest Neighbors', 'Training Accuracy': accuracy_score(train_y, predictions_train), 'Test Accuracy': accuracy_score(test_y, predictions_test)}, ignore_index=True)"
   ]
  },
  {
   "cell_type": "code",
   "execution_count": null,
   "id": "518e4551",
   "metadata": {
    "ExecuteTime": {
     "end_time": "2023-11-27T16:14:27.445116Z",
     "start_time": "2023-11-27T16:14:27.445116Z"
    }
   },
   "outputs": [],
   "source": [
    "# Decision Tree with Normalization\n",
    "model = tree.DecisionTreeClassifier()\n",
    "model.fit(train_x_scaled, train_y)\n",
    "predictions_train = model.predict(train_x_scaled)\n",
    "predictions_test = model.predict(test_x_scaled)\n",
    "results = results.append({'Classifier': 'Decision Tree (Normalization)', 'Training Accuracy': accuracy_score(train_y, predictions_train), 'Test Accuracy': accuracy_score(test_y, predictions_test)}, ignore_index=True)"
   ]
  },
  {
   "cell_type": "code",
   "execution_count": null,
   "id": "8b3761f9",
   "metadata": {
    "ExecuteTime": {
     "end_time": "2023-11-27T16:14:27.446115Z",
     "start_time": "2023-11-27T16:14:27.446115Z"
    }
   },
   "outputs": [],
   "source": [
    "# Logistic Regression with Normalization\n",
    "model = LogisticRegression()\n",
    "model.fit(train_x_scaled, train_y)\n",
    "predictions_train = model.predict(train_x_scaled)\n",
    "predictions_test = model.predict(test_x_scaled)\n",
    "results = results.append({'Classifier': 'Logistic Regression (Normalization)', 'Training Accuracy': accuracy_score(train_y, predictions_train), 'Test Accuracy': accuracy_score(test_y, predictions_test)}, ignore_index=True)"
   ]
  },
  {
   "cell_type": "code",
   "execution_count": null,
   "id": "1fc4d867",
   "metadata": {
    "ExecuteTime": {
     "end_time": "2023-11-27T16:14:27.448121Z",
     "start_time": "2023-11-27T16:14:27.448121Z"
    }
   },
   "outputs": [],
   "source": [
    "# K-Nearest Neighbors with Normalization\n",
    "model = KNeighborsClassifier()\n",
    "model.fit(train_x_scaled, train_y)\n",
    "predictions_train = model.predict(train_x_scaled)\n",
    "predictions_test = model.predict(test_x_scaled)\n",
    "results = results.append({'Classifier': 'K-Nearest Neighbors (Normalization)', 'Training Accuracy': accuracy_score(train_y, predictions_train), 'Test Accuracy': accuracy_score(test_y, predictions_test)}, ignore_index=True)\n",
    "\n",
    "# Display the results\n",
    "print(results)"
   ]
  }
 ],
 "metadata": {
  "kernelspec": {
   "display_name": "Python 3 (ipykernel)",
   "language": "python",
   "name": "python3"
  },
  "language_info": {
   "codemirror_mode": {
    "name": "ipython",
    "version": 3
   },
   "file_extension": ".py",
   "mimetype": "text/x-python",
   "name": "python",
   "nbconvert_exporter": "python",
   "pygments_lexer": "ipython3",
   "version": "3.11.5"
  },
  "varInspector": {
   "cols": {
    "lenName": 16,
    "lenType": 16,
    "lenVar": 40
   },
   "kernels_config": {
    "python": {
     "delete_cmd_postfix": "",
     "delete_cmd_prefix": "del ",
     "library": "var_list.py",
     "varRefreshCmd": "print(var_dic_list())"
    },
    "r": {
     "delete_cmd_postfix": ") ",
     "delete_cmd_prefix": "rm(",
     "library": "var_list.r",
     "varRefreshCmd": "cat(var_dic_list()) "
    }
   },
   "types_to_exclude": [
    "module",
    "function",
    "builtin_function_or_method",
    "instance",
    "_Feature"
   ],
   "window_display": false
  }
 },
 "nbformat": 4,
 "nbformat_minor": 5
}
