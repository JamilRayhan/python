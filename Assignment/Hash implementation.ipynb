{
 "cells": [
  {
   "cell_type": "code",
   "execution_count": 5,
   "id": "50a2f630",
   "metadata": {
    "ExecuteTime": {
     "end_time": "2023-12-23T18:01:03.557937Z",
     "start_time": "2023-12-23T18:01:03.551193Z"
    }
   },
   "outputs": [
    {
     "name": "stdout",
     "output_type": "stream",
     "text": [
      "Message: Hello, World!\n",
      "Hash: 1129\n"
     ]
    }
   ],
   "source": [
    "def hash(message):\n",
    "    hash_value = 0\n",
    "\n",
    "    for char in message:\n",
    "        hash_value = (hash_value + ord(char)) % (2**32)\n",
    "\n",
    "    return hash_value\n",
    "\n",
    "message = \"Hello, World!\"\n",
    "hashed_value = hash(message)\n",
    "print(f\"Message: {message}\")\n",
    "print(f\"Hash: {hashed_value}\")\n"
   ]
  },
  {
   "cell_type": "code",
   "execution_count": 9,
   "id": "4b6eac8c",
   "metadata": {
    "ExecuteTime": {
     "end_time": "2023-12-23T18:02:56.187167Z",
     "start_time": "2023-12-23T18:02:56.179785Z"
    }
   },
   "outputs": [
    {
     "name": "stdout",
     "output_type": "stream",
     "text": [
      "Message: Hello, World!\n",
      "Custom Hash: 86702717734482394273\n"
     ]
    }
   ],
   "source": [
    "def hash(message):\n",
    "    # Very basic and insecure hash function\n",
    "    hash_value = 0\n",
    "\n",
    "    for char in message:\n",
    "        # Simulate a simple mixing function\n",
    "        hash_value = (hash_value << 5) ^ ord(char)\n",
    "\n",
    "    return hash_value\n",
    "\n",
    "# Test the custom hash function\n",
    "message = \"Hello, World!\"\n",
    "hashed_value = hash(message)\n",
    "print(f\"Message: {message}\")\n",
    "print(f\"Custom Hash: {hashed_value}\")\n"
   ]
  },
  {
   "cell_type": "code",
   "execution_count": null,
   "id": "240984f4",
   "metadata": {},
   "outputs": [],
   "source": []
  }
 ],
 "metadata": {
  "kernelspec": {
   "display_name": "Python 3 (ipykernel)",
   "language": "python",
   "name": "python3"
  },
  "language_info": {
   "codemirror_mode": {
    "name": "ipython",
    "version": 3
   },
   "file_extension": ".py",
   "mimetype": "text/x-python",
   "name": "python",
   "nbconvert_exporter": "python",
   "pygments_lexer": "ipython3",
   "version": "3.11.5"
  },
  "varInspector": {
   "cols": {
    "lenName": 16,
    "lenType": 16,
    "lenVar": 40
   },
   "kernels_config": {
    "python": {
     "delete_cmd_postfix": "",
     "delete_cmd_prefix": "del ",
     "library": "var_list.py",
     "varRefreshCmd": "print(var_dic_list())"
    },
    "r": {
     "delete_cmd_postfix": ") ",
     "delete_cmd_prefix": "rm(",
     "library": "var_list.r",
     "varRefreshCmd": "cat(var_dic_list()) "
    }
   },
   "types_to_exclude": [
    "module",
    "function",
    "builtin_function_or_method",
    "instance",
    "_Feature"
   ],
   "window_display": false
  }
 },
 "nbformat": 4,
 "nbformat_minor": 5
}
